{
  "nbformat": 4,
  "nbformat_minor": 0,
  "metadata": {
    "colab": {
      "provenance": [],
      "authorship_tag": "ABX9TyMwKVdSyVScjupIU43yj8V0",
      "include_colab_link": true
    },
    "kernelspec": {
      "name": "python3",
      "display_name": "Python 3"
    },
    "language_info": {
      "name": "python"
    }
  },
  "cells": [
    {
      "cell_type": "markdown",
      "metadata": {
        "id": "view-in-github",
        "colab_type": "text"
      },
      "source": [
        "<a href=\"https://colab.research.google.com/github/Jubelo11/CN6000/blob/main/Week1.ipynb\" target=\"_parent\"><img src=\"https://colab.research.google.com/assets/colab-badge.svg\" alt=\"Open In Colab\"/></a>"
      ]
    },
    {
      "cell_type": "code",
      "execution_count": 24,
      "metadata": {
        "id": "JHejyG9yQDrE"
      },
      "outputs": [],
      "source": []
    },
    {
      "cell_type": "code",
      "metadata": {
        "colab": {
          "base_uri": "https://localhost:8080/"
        },
        "id": "46f468ea",
        "outputId": "a2479e9c-4c5f-4ec0-e76d-cedeaf1813a4"
      },
      "source": [
        "# for loop example\n",
        "for z in range(10,100,2):\n",
        "  print(z,end=\" \")"
      ],
      "execution_count": 32,
      "outputs": [
        {
          "output_type": "stream",
          "name": "stdout",
          "text": [
            "10 12 14 16 18 20 22 24 26 28 30 32 34 36 38 40 42 44 46 48 50 52 54 56 58 60 62 64 66 68 70 72 74 76 78 80 82 84 86 88 90 92 94 96 98 "
          ]
        }
      ]
    },
    {
      "cell_type": "code",
      "metadata": {
        "colab": {
          "base_uri": "https://localhost:8080/"
        },
        "id": "e7196b2b",
        "outputId": "4bc35420-8e1c-4f10-d40b-6619c5b86170"
      },
      "source": [
        "#list Example\n",
        "a=[2,4,6,8,9,12,15]\n",
        "print(f\"total members in list is {len(a)}\")\n",
        "print(a[2])\n",
        "a[5]=14\n",
        "print(a[5])\n",
        "print(min(a),max(a))\n",
        "a.append(2234)\n",
        "print(f\"total members in list is {len(a)}\")\n",
        "\n",
        "print(a[7])"
      ],
      "execution_count": 31,
      "outputs": [
        {
          "output_type": "stream",
          "name": "stdout",
          "text": [
            "total members in list is 7\n",
            "6\n",
            "14\n",
            "2 15\n",
            "total members in list is 8\n",
            "2234\n"
          ]
        }
      ]
    },
    {
      "cell_type": "code",
      "metadata": {
        "colab": {
          "base_uri": "https://localhost:8080/"
        },
        "id": "07d8c391",
        "outputId": "605bfd56-d971-431a-ae9b-339b77e5f6ff"
      },
      "source": [
        "# Global and local variable in Python\n",
        "gvariable = 10\n",
        "\n",
        "def listsum(numList):\n",
        "    global gvariable\n",
        "    gvariable = 20\n",
        "    print(f\"value of the gvariable inside the function is {gvariable}\")\n",
        "\n",
        "    theSum = 0  # variable to hold the sum\n",
        "    for i in numList:  # loop through list items\n",
        "        theSum += i\n",
        "\n",
        "    count = len(numList)\n",
        "    print(f\"count of the list is {count}\")\n",
        "    return theSum, count\n",
        "\n",
        "print(f\"value of gvariable before calling the function: {gvariable}\")\n",
        "mylist = [3, 14, 5, 6, 17, 8, 19, 0]\n",
        "\n",
        "Sm, cnt = listsum(mylist)\n",
        "\n",
        "print(f\"sum of the list is {Sm}\")\n",
        "print(f\"count of the list is {cnt}\")\n",
        "print(f\"value of gvariable after calling the function: {gvariable}\")\n",
        "odd = [1, 3, 5, 7, 9]\n",
        "\n"
      ],
      "execution_count": 27,
      "outputs": [
        {
          "output_type": "stream",
          "name": "stdout",
          "text": [
            "value of gvariable before calling the function: 10\n",
            "value of the gvariable inside the function is 20\n",
            "count of the list is 8\n",
            "sum of the list is 72\n",
            "count of the list is 8\n",
            "value of gvariable after calling the function: 20\n"
          ]
        }
      ]
    },
    {
      "cell_type": "markdown",
      "metadata": {
        "id": "f2001cc3"
      },
      "source": [
        "global and local variable\n",
        "Local variable are only visible to the functions where there are declared they are not visible outside the functions Global variables are visible to the entire programe. Global variable are created at the top of the programe outside all the functions."
      ]
    },
    {
      "cell_type": "code",
      "metadata": {
        "colab": {
          "base_uri": "https://localhost:8080/"
        },
        "id": "4523e221",
        "outputId": "56d520c0-478f-4e31-eb38-ca71df258abf"
      },
      "source": [
        "a=[]\n",
        "even=[]\n",
        "odd=[]\n",
        "for i in range(1,101,1):\n",
        "  if (i%2==0):\n",
        "    even.append(i)\n",
        "  else:\n",
        "    odd.append(i)\n",
        "  a.append(i)\n",
        "print(f\"total members of the list is {len(a)}\")\n",
        "print(f\"total members of the even list is {len(even)}\")\n",
        "print(f\"total members of the odd list is {len(odd)}\")"
      ],
      "execution_count": 28,
      "outputs": [
        {
          "output_type": "stream",
          "name": "stdout",
          "text": [
            "total members of the list is 100\n",
            "total members of the even list is 50\n",
            "total members of the odd list is 50\n"
          ]
        }
      ]
    },
    {
      "cell_type": "code",
      "metadata": {
        "colab": {
          "base_uri": "https://localhost:8080/",
          "height": 564
        },
        "id": "ef87d8d2",
        "outputId": "92bdd782-3362-4fbf-e20f-5919652485a6"
      },
      "source": [
        "import matplotlib.pyplot as plt\n",
        "import numpy as np\n",
        "\n",
        "\n",
        "sepal_lengths = [5.1, 4.9, 4.7, 4.6, 5.0, 5.4, 4.6, 5.0, 4.4, 4.9,\n",
        "                 5.4, 4.8, 4.8, 4.3, 5.8, 5.7, 5.4, 5.1, 5.7, 5.1,\n",
        "                 5.4, 5.1, 4.6, 5.1, 4.8, 5.0, 5.0, 5.2, 5.2, 4.7,\n",
        "                 4.8, 5.4, 5.2, 5.5, 4.9, 5.0, 5.5, 4.9, 4.4, 5.1,\n",
        "                 5.0, 5.1, 4.8, 5.1, 4.6, 5.3, 5.0, 5.0, 5.5, 4.9]\n",
        "\n",
        "# histogram to get the frequency distribution\n",
        "hist, bins = np.histogram(sepal_lengths, bins=np.arange(min(sepal_lengths), max(sepal_lengths) + 0.5, 0.5))\n",
        "\n",
        "# Calculate bin centers\n",
        "bin_centers = (bins[:-1] + bins[1:]) / 2\n",
        "\n",
        "# Create the pictograph\n",
        "plt.figure(figsize=(10, 6))\n",
        "plt.bar(bin_centers, hist, width=0.4, edgecolor='black')\n",
        "plt.xlabel('Sepal Length (cm)')\n",
        "plt.ylabel('Frequency')\n",
        "plt.title('Sepal Length Distribution')\n",
        "plt.xticks(bin_centers)\n",
        "plt.grid(axis='y', alpha=0.75)\n",
        "plt.show()"
      ],
      "execution_count": 30,
      "outputs": [
        {
          "output_type": "display_data",
          "data": {
            "text/plain": [
              "<Figure size 1000x600 with 1 Axes>"
            ],
            "image/png": "[encoded data removed]"
          },
          "metadata": {}
        }
      ]
    },
    {
      "cell_type": "markdown",
      "metadata": {
        "id": "f03d702f"
      },
      "source": [
        "This code generates a bar chart representing the frequency distribution of sepal lengths. Each bar represents a range of sepal lengths, and the height of the bar indicates the frequency of sepal lengths within that range."
      ]
    }
  ]
}